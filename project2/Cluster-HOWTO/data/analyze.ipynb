{
 "cells": [
  {
   "cell_type": "code",
   "execution_count": null,
   "metadata": {},
   "outputs": [],
   "source": [
    "import os\n",
    "import re\n",
    "import numpy as np\n",
    "import matplotlib.pyplot as plt"
   ]
  },
  {
   "cell_type": "code",
   "execution_count": null,
   "metadata": {},
   "outputs": [],
   "source": [
    "NUM_ITER = 1000000"
   ]
  },
  {
   "cell_type": "code",
   "execution_count": null,
   "metadata": {},
   "outputs": [],
   "source": [
    "def parse_thread_times(filename):\n",
    "    \"\"\"Extract thread times from a given file and return the average time.\"\"\"\n",
    "    thread_times = []\n",
    "    time_pattern = re.compile(r'Rk \\d+: Time ([\\d\\.]+)')\n",
    "\n",
    "    try:\n",
    "        with open(filename, 'r') as f:\n",
    "            for line in f:\n",
    "                match = time_pattern.search(line)\n",
    "                if match:\n",
    "                    thread_times.append(float(match.group(1)))\n",
    "        return np.mean(thread_times)\n",
    "    except FileNotFoundError as e:\n",
    "        raise e"
   ]
  },
  {
   "cell_type": "code",
   "execution_count": null,
   "metadata": {},
   "outputs": [],
   "source": [
    "def collect_data():\n",
    "    \"\"\"Collect and organize data from constructed filenames.\"\"\"\n",
    "    data = {j: [] for j in range(2, 9, 2)}  # j in {2, 4, 6, 8}\n",
    "\n",
    "    for j in data.keys():\n",
    "        for k in range(10):  # k in range(10)\n",
    "            # filename = f\"combined_hello_4_{j}_{k}.out\"\n",
    "            # filename = f\"combined_hello_{j}_6_{k}.out\"\n",
    "            # filename = f\"mpi_comp_{j}_6_{k}.out\"\n",
    "            filename = f\"mpi_comp_4_{j}_{k}.out\"\n",
    "            avg_time = parse_thread_times(filename)\n",
    "            data[j].append(avg_time)\n",
    "\n",
    "    return data"
   ]
  },
  {
   "cell_type": "code",
   "execution_count": null,
   "metadata": {},
   "outputs": [],
   "source": [
    "data = collect_data()"
   ]
  },
  {
   "cell_type": "code",
   "execution_count": null,
   "metadata": {},
   "outputs": [],
   "source": [
    "for k, v in data.items():\n",
    "    print(k, v)"
   ]
  },
  {
   "cell_type": "code",
   "execution_count": null,
   "metadata": {},
   "outputs": [],
   "source": [
    "def compute_statistics(data):\n",
    "    \"\"\"Compute the median and range of average times for each j.\"\"\"\n",
    "    stats = {}\n",
    "    for j, times in data.items():\n",
    "        times.sort()\n",
    "        median = np.median(times)\n",
    "        # median = times[len(times) // 2 - 1]\n",
    "        min_time, max_time = min(times), max(times)\n",
    "        lower_error = median - min(times)\n",
    "        upper_error = max(times) - median\n",
    "        stats[j] = (median, lower_error, upper_error, max_time, min_time)\n",
    "    return stats"
   ]
  },
  {
   "cell_type": "code",
   "execution_count": null,
   "metadata": {},
   "outputs": [],
   "source": [
    "stats2 = compute_statistics(data)"
   ]
  },
  {
   "cell_type": "code",
   "execution_count": null,
   "metadata": {},
   "outputs": [],
   "source": [
    "for k, v in stats.items():\n",
    "    print(k, v)"
   ]
  },
  {
   "cell_type": "code",
   "execution_count": null,
   "metadata": {},
   "outputs": [],
   "source": [
    "def plot_results():\n",
    "    \"\"\"Plot the median values with error bars.\"\"\"\n",
    "    x = sorted(stats.keys())\n",
    "    y = [stats[j][-1] for j in x]\n",
    "    # yerr = [[stats[j][1] for j in x], [stats[j][2] for j in x]]  # Asymmetric errors\n",
    "    y2 = [stats2[j][-1] for j in x]\n",
    "    # yerr2 = [[stats2[j][-1] for j in x], [stats2[j][2] for j in x]]  # Asymmetric errors\n",
    "\n",
    "    plt.figure(figsize=(8, 5))\n",
    "    # plt.errorbar(x, y, yerr=yerr, fmt='o-', capsize=5, label='MCS Barrier')\n",
    "    plt.plot(x, y, 'o-', label='OpenMP-MPI Combined')\n",
    "    plt.plot(x, y2, 's-', label='Pure MPI')\n",
    "    # plt.errorbar(x, y2, yerr=yerr2, fmt='s-', capsize=5, label='Dissemination Barrier')\n",
    "    plt.xlabel(\"Num. of Tasks Per Node\")\n",
    "    plt.ylabel(\"Time (1e-5 s)\")\n",
    "    plt.title(\"Combined vs Pure MPI on 4 Nodes\")\n",
    "    plt.legend()\n",
    "    plt.grid(False)\n",
    "    plt.show()"
   ]
  },
  {
   "cell_type": "code",
   "execution_count": null,
   "metadata": {},
   "outputs": [],
   "source": [
    "plot_results()"
   ]
  },
  {
   "cell_type": "code",
   "execution_count": null,
   "metadata": {},
   "outputs": [],
   "source": [
    "from matplotlib import cm"
   ]
  },
  {
   "cell_type": "code",
   "execution_count": null,
   "metadata": {},
   "outputs": [],
   "source": [
    "def collect_data_combined():\n",
    "    \"\"\"Collect and organize data from constructed filenames.\"\"\"\n",
    "    data = {(i, j): [] for i in range(2, 9, 2) for j in range(2, 13, 2)}\n",
    "\n",
    "    for i, j in data.keys():\n",
    "        for k in range(10):  # k in range(10)\n",
    "            filename = f\"combined_hello_{i}_{j}_{k}.out\"\n",
    "            avg_time = parse_thread_times(filename)\n",
    "            if avg_time is not None:\n",
    "                data[(i, j)].append(avg_time)\n",
    "\n",
    "    return data"
   ]
  },
  {
   "cell_type": "code",
   "execution_count": null,
   "metadata": {},
   "outputs": [],
   "source": [
    "combined_data = collect_data_combined()"
   ]
  },
  {
   "cell_type": "code",
   "execution_count": null,
   "metadata": {},
   "outputs": [],
   "source": [
    "def compute_medians_combined(data):\n",
    "    \"\"\"Compute the median of average times for each (i, j).\"\"\"\n",
    "    stats = {}\n",
    "    for (i, j), times in data.items():\n",
    "        times.sort()\n",
    "        stats[(i, j)] = (times[len(times) // 2 - 1], times[0])\n",
    "    return stats"
   ]
  },
  {
   "cell_type": "code",
   "execution_count": null,
   "metadata": {},
   "outputs": [],
   "source": [
    "medians_combined = compute_medians_combined(combined_data)"
   ]
  },
  {
   "cell_type": "code",
   "execution_count": null,
   "metadata": {},
   "outputs": [],
   "source": [
    "def plot_3d_surface(medians):\n",
    "    \"\"\"Plot the 3D surface with i and j as axes and median time as z-axis.\"\"\"\n",
    "    i_vals = sorted(set(i for i, _ in medians.keys()))\n",
    "    j_vals = sorted(set(j for _, j in medians.keys()))\n",
    "    X, Y = np.meshgrid(i_vals, j_vals, indexing='ij')\n",
    "    Z = np.array([[medians[(i, j)][1] for j in j_vals] for i in i_vals])\n",
    "\n",
    "    fig = plt.figure(figsize=(14, 9))\n",
    "    ax = fig.add_subplot(111, projection='3d')\n",
    "    # ax.plot_surface(X, Y, Z, cmap='viridis')\n",
    "    surf = ax.plot_surface(X, Y, Z, cmap=cm.inferno, edgecolor='none')\n",
    "    fig.colorbar(surf, ax=ax, shrink=0.5, aspect=10, label='Time (s)')\n",
    "\n",
    "    ax.set_xlabel(\"Num. of Processes\")\n",
    "    ax.set_ylabel(\"Num. of Threads\")\n",
    "    ax.set_zlabel(\"Time (1e-5 s)\")\n",
    "    # ax.set_title(\"OpenMP-MPI Combined Barrier\")\n",
    "    ax.view_init(elev=30, azim=200)  # Modify azim to move left\n",
    "    plt.show()"
   ]
  },
  {
   "cell_type": "code",
   "execution_count": null,
   "metadata": {},
   "outputs": [],
   "source": [
    "plot_3d_surface(medians_combined)"
   ]
  }
 ],
 "metadata": {
  "kernelspec": {
   "display_name": "hml_lab2",
   "language": "python",
   "name": "python3"
  },
  "language_info": {
   "codemirror_mode": {
    "name": "ipython",
    "version": 3
   },
   "file_extension": ".py",
   "mimetype": "text/x-python",
   "name": "python",
   "nbconvert_exporter": "python",
   "pygments_lexer": "ipython3",
   "version": "3.10.13"
  }
 },
 "nbformat": 4,
 "nbformat_minor": 2
}
